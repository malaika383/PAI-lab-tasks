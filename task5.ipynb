{
  "nbformat": 4,
  "nbformat_minor": 0,
  "metadata": {
    "colab": {
      "provenance": []
    },
    "kernelspec": {
      "name": "python3",
      "display_name": "Python 3"
    },
    "language_info": {
      "name": "python"
    }
  },
  "cells": [
    {
      "cell_type": "code",
      "source": [
        "import cv2\n",
        "import numpy as np\n",
        "import matplotlib.pyplot as plt\n"
      ],
      "metadata": {
        "id": "qHPkr2PuZhjE"
      },
      "execution_count": null,
      "outputs": []
    },
    {
      "cell_type": "code",
      "source": [
        "image = cv2.imread('image.jpg')\n"
      ],
      "metadata": {
        "id": "HZyIBy2KZzjR"
      },
      "execution_count": null,
      "outputs": []
    },
    {
      "cell_type": "code",
      "source": [
        "plt.imshow(cv2.cvtColor(image, cv2.COLOR_BGR2RGB))\n",
        "plt.axis('off') # Hide axes\n",
        "plt.show()"
      ],
      "metadata": {
        "id": "208sMF4zZzsA"
      },
      "execution_count": null,
      "outputs": []
    },
    {
      "cell_type": "code",
      "source": [
        "resized_image = cv2.resize(image, (width, height))"
      ],
      "metadata": {
        "id": "sd4HEm10Zz_d"
      },
      "execution_count": null,
      "outputs": []
    },
    {
      "cell_type": "code",
      "source": [
        "(h, w) = image.shape[:2]\n",
        "center = (w // 2, h // 2)\n",
        "M = cv2.getRotationMatrix2D(center, angle, scale)\n",
        "rotated_image = cv2.warpAffine(image, M, (w, h))\n",
        "\n"
      ],
      "metadata": {
        "id": "NoVQ25EBZ0Eg"
      },
      "execution_count": null,
      "outputs": []
    },
    {
      "cell_type": "code",
      "source": [
        "_, thresh_image = cv2.threshold(gray_image, threshold_value, max_value, cv2.THRESH_BINARY)\n",
        "\n"
      ],
      "metadata": {
        "id": "ONIGzGBFZ0I0"
      },
      "execution_count": null,
      "outputs": []
    },
    {
      "cell_type": "code",
      "source": [
        "adaptive_thresh = cv2.adaptiveThreshold(gray_image, max_value, cv2.ADAPTIVE_THRESH_GAUSSIAN_C, cv2.THRESH_BINARY, block_size, C)\n",
        "\n"
      ],
      "metadata": {
        "id": "XrCqn5bqinpN"
      },
      "execution_count": null,
      "outputs": []
    },
    {
      "cell_type": "code",
      "source": [
        "edges = cv2.Canny(image, threshold1, threshold2)"
      ],
      "metadata": {
        "id": "m5JF4HI0in9B"
      },
      "execution_count": null,
      "outputs": []
    },
    {
      "cell_type": "code",
      "source": [
        "contours, _ = cv2.findContours(thresh_image, cv2.RETR_EXTERNAL, cv2.CHAIN_APPROX_SIMPLE)\n",
        "\n"
      ],
      "metadata": {
        "id": "yGnB6ELuioUG"
      },
      "execution_count": null,
      "outputs": []
    },
    {
      "cell_type": "code",
      "source": [
        "cv2.drawContours(image, contours, -1, (0, 255, 0), 3)"
      ],
      "metadata": {
        "id": "yTiW0-sGjE1w"
      },
      "execution_count": null,
      "outputs": []
    },
    {
      "cell_type": "code",
      "source": [
        "sift = cv2.SIFT_create()\n",
        "keypoints, descriptors = sift.detectAndCompute(image, None)"
      ],
      "metadata": {
        "id": "5kfUBx49jFKr"
      },
      "execution_count": null,
      "outputs": []
    },
    {
      "cell_type": "code",
      "source": [
        "face_cascade = cv2.CascadeClassifier('haarcascade_frontalface_default.xml')\n",
        "faces = face_cascade.detectMultiScale(gray_image, scaleFactor=1.1, minNeighbors=5)\n",
        "\n"
      ],
      "metadata": {
        "id": "0ZRRBsmrj0z4"
      },
      "execution_count": null,
      "outputs": []
    }
  ]
}